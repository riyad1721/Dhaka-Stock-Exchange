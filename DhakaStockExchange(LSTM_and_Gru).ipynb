{
  "nbformat": 4,
  "nbformat_minor": 0,
  "metadata": {
    "colab": {
      "name": "DhakaStockExchange(LSTM and Gru).ipynb",
      "provenance": [],
      "collapsed_sections": []
    },
    "kernelspec": {
      "name": "python3",
      "display_name": "Python 3"
    },
    "language_info": {
      "name": "python"
    }
  },
  "cells": [
    {
      "cell_type": "code",
      "execution_count": null,
      "metadata": {
        "id": "7xMgf4KCJTME"
      },
      "outputs": [],
      "source": [
        "import pandas as pd\n",
        "import glob\n",
        "import numpy as np # linear algebra\n",
        "\n",
        "\n",
        "# Arguments\n",
        "#-------------------------#\n",
        "CompanyName = 'BATBC'\n",
        "StartDate = '2010-01-01'\n",
        "EndDate = '2017-12-12'\n",
        "#-------------------------#\n",
        "\n",
        "\n",
        "path = \"../input/dsebd\"\n",
        "files = glob.glob(path + \"/p*.json\")\n",
        "\n",
        "li = []\n",
        "for filename in files:\n",
        "    df = pd.read_json(filename)\n",
        "    li.append(df)\n",
        "\n",
        "frame = pd.concat(li, axis=0, ignore_index=True)\n",
        "frame = frame[frame['trading_code'] == CompanyName]\n",
        "frame = frame[(frame['date'] >= StartDate) & (frame['date'] <= EndDate)]\n",
        "frame = frame.sort_values(by=['date'])\n",
        "frame = frame.reset_index() # reverses the graph\n",
        "frame"
      ]
    },
    {
      "cell_type": "code",
      "source": [
        "import matplotlib.pyplot as plt\n",
        "import seaborn as sns\n",
        "\n",
        "sns.set_style(\"darkgrid\")\n",
        "plt.figure(figsize = (15,9))\n",
        "plt.plot(frame[['closing_price']])\n",
        "\n",
        "\n",
        "plt.xticks(np.arange(0,frame.shape[0],100),frame['date'].loc[::100],rotation=90)\n",
        "#plt.xticks(np.arange(0,frame.shape[0],10), np.arange(0,frame.shape[0],10))\n",
        "\n",
        "plt.title(CompanyName, fontsize=18, fontweight='bold')\n",
        "plt.xlabel('Date',fontsize=18)\n",
        "plt.ylabel('Close Price',fontsize=18)\n",
        "plt.show()"
      ],
      "metadata": {
        "id": "kyREmiFdJcIk"
      },
      "execution_count": null,
      "outputs": []
    },
    {
      "cell_type": "code",
      "source": [
        "frame[['closing_price']]"
      ],
      "metadata": {
        "id": "h8UcfDv_JdQE"
      },
      "execution_count": null,
      "outputs": []
    },
    {
      "cell_type": "code",
      "source": [
        "from sklearn.preprocessing import MinMaxScaler\n",
        "\n",
        "scaler = MinMaxScaler(feature_range=(-1, 1))\n",
        "frame['closing_price'] = scaler.fit_transform(frame['closing_price'].values.reshape(-1,1))"
      ],
      "metadata": {
        "id": "wuGnKTtEJhnY"
      },
      "execution_count": null,
      "outputs": []
    },
    {
      "cell_type": "code",
      "source": [
        "def split_data(stock, lookback):\n",
        "    data_raw = stock.to_numpy() # convert to numpy array\n",
        "    data = []\n",
        "    \n",
        "    # create all possible sequences of length seq_len\n",
        "    for index in range(len(data_raw) - lookback): \n",
        "        data.append(data_raw[index: index + lookback])\n",
        "    \n",
        "    data = np.array(data);\n",
        "    test_set_size = int(np.round(0.2*data.shape[0]));\n",
        "    train_set_size = data.shape[0] - (test_set_size);\n",
        "    \n",
        "    x_train = data[:train_set_size,:-1,:]\n",
        "    y_train = data[:train_set_size,-1,:]\n",
        "    \n",
        "    x_test = data[train_set_size:,:-1]\n",
        "    y_test = data[train_set_size:,-1,:]\n",
        "    \n",
        "    return [x_train, y_train, x_test, y_test]"
      ],
      "metadata": {
        "id": "-zHLx8cJJiwS"
      },
      "execution_count": null,
      "outputs": []
    },
    {
      "cell_type": "code",
      "source": [
        "lookback = 20 # choose sequence length\n",
        "x_train, y_train, x_test, y_test = split_data(frame[['closing_price']], lookback)\n",
        "print('x_train.shape = ',x_train.shape)\n",
        "print('y_train.shape = ',y_train.shape)\n",
        "print('x_test.shape = ',x_test.shape)\n",
        "print('y_test.shape = ',y_test.shape)"
      ],
      "metadata": {
        "id": "2zpzJgfvJpRp"
      },
      "execution_count": null,
      "outputs": []
    },
    {
      "cell_type": "code",
      "source": [
        "import torch\n",
        "import torch.nn as nn\n",
        "\n",
        "x_train = torch.from_numpy(x_train).type(torch.Tensor)\n",
        "x_test = torch.from_numpy(x_test).type(torch.Tensor)\n",
        "y_train_lstm = torch.from_numpy(y_train).type(torch.Tensor)\n",
        "y_test_lstm = torch.from_numpy(y_test).type(torch.Tensor)\n",
        "y_train_gru = torch.from_numpy(y_train).type(torch.Tensor)\n",
        "y_test_gru = torch.from_numpy(y_test).type(torch.Tensor)"
      ],
      "metadata": {
        "id": "y8RArYY3Jrvo"
      },
      "execution_count": null,
      "outputs": []
    },
    {
      "cell_type": "code",
      "source": [
        "input_dim = 1\n",
        "hidden_dim = 32\n",
        "num_layers = 2\n",
        "output_dim = 1\n",
        "num_epochs = 100"
      ],
      "metadata": {
        "id": "VHouWXBHJtyb"
      },
      "execution_count": null,
      "outputs": []
    },
    {
      "cell_type": "code",
      "source": [
        "class LSTM(nn.Module):\n",
        "    def __init__(self, input_dim, hidden_dim, num_layers, output_dim):\n",
        "        super(LSTM, self).__init__()\n",
        "        self.hidden_dim = hidden_dim\n",
        "        self.num_layers = num_layers\n",
        "        \n",
        "        self.lstm = nn.LSTM(input_dim, hidden_dim, num_layers, batch_first=True)\n",
        "        self.fc = nn.Linear(hidden_dim, output_dim)\n",
        "\n",
        "    def forward(self, x):\n",
        "        h0 = torch.zeros(self.num_layers, x.size(0), self.hidden_dim).requires_grad_()\n",
        "        c0 = torch.zeros(self.num_layers, x.size(0), self.hidden_dim).requires_grad_()\n",
        "        out, (hn, cn) = self.lstm(x, (h0.detach(), c0.detach()))\n",
        "        out = self.fc(out[:, -1, :]) \n",
        "        return out"
      ],
      "metadata": {
        "id": "EAGuBkmPJwcS"
      },
      "execution_count": null,
      "outputs": []
    },
    {
      "cell_type": "code",
      "source": [
        "model = LSTM(input_dim=input_dim, hidden_dim=hidden_dim, output_dim=output_dim, num_layers=num_layers)\n",
        "criterion = torch.nn.MSELoss(reduction='mean')\n",
        "optimiser = torch.optim.Adam(model.parameters(), lr=0.01)"
      ],
      "metadata": {
        "id": "R2m1supdJysF"
      },
      "execution_count": null,
      "outputs": []
    },
    {
      "cell_type": "code",
      "source": [
        "import time\n",
        "\n",
        "hist = np.zeros(num_epochs)\n",
        "start_time = time.time()\n",
        "lstm = []\n",
        "\n",
        "for t in range(num_epochs):\n",
        "    y_train_pred = model(x_train)\n",
        "\n",
        "    loss = criterion(y_train_pred, y_train_lstm)\n",
        "    print(\"Epoch \", t, \"MSE: \", loss.item())\n",
        "    hist[t] = loss.item()\n",
        "\n",
        "    optimiser.zero_grad()\n",
        "    loss.backward()\n",
        "    optimiser.step()\n",
        "    \n",
        "training_time = time.time()-start_time\n",
        "print(\"Training time: {}\".format(training_time))"
      ],
      "metadata": {
        "id": "VYJY17JlJ1bS"
      },
      "execution_count": null,
      "outputs": []
    },
    {
      "cell_type": "code",
      "source": [
        "predict = pd.DataFrame(scaler.inverse_transform(y_train_pred.detach().numpy()))\n",
        "original = pd.DataFrame(scaler.inverse_transform(y_train_lstm.detach().numpy()))"
      ],
      "metadata": {
        "id": "FHcdL7vfJ48q"
      },
      "execution_count": null,
      "outputs": []
    },
    {
      "cell_type": "code",
      "source": [
        "import seaborn as sns\n",
        "sns.set_style(\"darkgrid\")    \n",
        "\n",
        "fig = plt.figure()\n",
        "fig.subplots_adjust(hspace=0.2, wspace=0.2)\n",
        "\n",
        "plt.subplot(1, 2, 1)\n",
        "ax = sns.lineplot(x = original.index, y = original[0], label=\"Data\", color='royalblue')\n",
        "ax = sns.lineplot(x = predict.index, y = predict[0], label=\"Training Prediction (LSTM)\", color='tomato')\n",
        "ax.set_title('Stock price', size = 14, fontweight='bold')\n",
        "ax.set_xlabel(\"Days\", size = 14)\n",
        "ax.set_ylabel(\"Cost (USD)\", size = 14)\n",
        "ax.set_xticklabels('', size=10)\n",
        "\n",
        "\n",
        "plt.subplot(1, 2, 2)\n",
        "ax = sns.lineplot(data=hist, color='royalblue')\n",
        "ax.set_xlabel(\"Epoch\", size = 14)\n",
        "ax.set_ylabel(\"Loss\", size = 14)\n",
        "ax.set_title(\"Training Loss\", size = 14, fontweight='bold')\n",
        "fig.set_figheight(6)\n",
        "fig.set_figwidth(16)"
      ],
      "metadata": {
        "id": "nxQe0zPCJ8X6"
      },
      "execution_count": null,
      "outputs": []
    },
    {
      "cell_type": "code",
      "source": [
        "import math, time\n",
        "from sklearn.metrics import mean_squared_error\n",
        "\n",
        "# make predictions\n",
        "y_test_pred = model(x_test)\n",
        "\n",
        "# invert predictions\n",
        "y_train_pred = scaler.inverse_transform(y_train_pred.detach().numpy())\n",
        "y_train = scaler.inverse_transform(y_train_lstm.detach().numpy())\n",
        "y_test_pred = scaler.inverse_transform(y_test_pred.detach().numpy())\n",
        "y_test = scaler.inverse_transform(y_test_lstm.detach().numpy())\n",
        "\n",
        "# calculate root mean squared error\n",
        "trainScore = math.sqrt(mean_squared_error(y_train[:,0], y_train_pred[:,0]))\n",
        "print('Train Score: %.2f RMSE' % (trainScore))\n",
        "testScore = math.sqrt(mean_squared_error(y_test[:,0], y_test_pred[:,0]))\n",
        "print('Test Score: %.2f RMSE' % (testScore))\n",
        "lstm.append(trainScore)\n",
        "lstm.append(testScore)\n",
        "lstm.append(training_time)"
      ],
      "metadata": {
        "id": "bWUqfJKbJ_WC"
      },
      "execution_count": null,
      "outputs": []
    },
    {
      "cell_type": "code",
      "source": [
        "# shift train predictions for plotting\n",
        "trainPredictPlot = np.empty_like(frame[['closing_price']])\n",
        "trainPredictPlot[:, :] = np.nan\n",
        "trainPredictPlot[lookback:len(y_train_pred)+lookback, :] = y_train_pred\n",
        "\n",
        "# shift test predictions for plotting\n",
        "testPredictPlot = np.empty_like(frame[['closing_price']])\n",
        "testPredictPlot[:, :] = np.nan\n",
        "testPredictPlot[len(y_train_pred)+lookback-1:len(frame)-1, :] = y_test_pred\n",
        "\n",
        "original = scaler.inverse_transform(frame['closing_price'].values.reshape(-1,1))\n",
        "\n",
        "predictions = np.append(trainPredictPlot, testPredictPlot, axis=1)\n",
        "predictions = np.append(predictions, original, axis=1)\n",
        "result = pd.DataFrame(predictions)"
      ],
      "metadata": {
        "id": "vwHKvxZfKCPT"
      },
      "execution_count": null,
      "outputs": []
    },
    {
      "cell_type": "code",
      "source": [
        "import plotly.express as px\n",
        "import plotly.graph_objects as go\n",
        "\n",
        "fig = go.Figure()\n",
        "fig.add_trace(go.Scatter(go.Scatter(x=result.index, y=result[0],\n",
        "                    mode='lines',\n",
        "                    name='Train prediction')))\n",
        "fig.add_trace(go.Scatter(x=result.index, y=result[1],\n",
        "                    mode='lines',\n",
        "                    name='Test prediction'))\n",
        "fig.add_trace(go.Scatter(go.Scatter(x=result.index, y=result[2],\n",
        "                    mode='lines',\n",
        "                    name='Actual Value')))\n",
        "fig.update_layout(\n",
        "    xaxis=dict(\n",
        "        showline=True,\n",
        "        showgrid=True,\n",
        "        showticklabels=False,\n",
        "        linecolor='white',\n",
        "        linewidth=2\n",
        "    ),\n",
        "    yaxis=dict(\n",
        "        title_text='Close (USD)',\n",
        "        titlefont=dict(\n",
        "            family='Rockwell',\n",
        "            size=12,\n",
        "            color='white',\n",
        "        ),\n",
        "        showline=True,\n",
        "        showgrid=True,\n",
        "        showticklabels=True,\n",
        "        linecolor='white',\n",
        "        linewidth=2,\n",
        "        ticks='outside',\n",
        "        tickfont=dict(\n",
        "            family='Rockwell',\n",
        "            size=12,\n",
        "            color='white',\n",
        "        ),\n",
        "    ),\n",
        "    showlegend=True,\n",
        "    template = 'plotly_dark'\n",
        "\n",
        ")\n",
        "\n",
        "\n",
        "\n",
        "annotations = []\n",
        "annotations.append(dict(xref='paper', yref='paper', x=0.0, y=1.05,\n",
        "                              xanchor='left', yanchor='bottom',\n",
        "                              text='Results (LSTM)',\n",
        "                              font=dict(family='Rockwell',\n",
        "                                        size=26,\n",
        "                                        color='white'),\n",
        "                              showarrow=False))\n",
        "fig.update_layout(annotations=annotations)\n",
        "\n",
        "fig.show()"
      ],
      "metadata": {
        "id": "pe6PbXkQKF16"
      },
      "execution_count": null,
      "outputs": []
    },
    {
      "cell_type": "code",
      "source": [
        "class GRU(nn.Module):\n",
        "    def __init__(self, input_dim, hidden_dim, num_layers, output_dim):\n",
        "        super(GRU, self).__init__()\n",
        "        self.hidden_dim = hidden_dim\n",
        "        self.num_layers = num_layers\n",
        "        \n",
        "        self.gru = nn.GRU(input_dim, hidden_dim, num_layers, batch_first=True)\n",
        "        self.fc = nn.Linear(hidden_dim, output_dim)\n",
        "\n",
        "    def forward(self, x):\n",
        "        h0 = torch.zeros(self.num_layers, x.size(0), self.hidden_dim).requires_grad_()\n",
        "        out, (hn) = self.gru(x, (h0.detach()))\n",
        "        out = self.fc(out[:, -1, :]) \n",
        "        return out"
      ],
      "metadata": {
        "id": "3GUSowyUKIkr"
      },
      "execution_count": null,
      "outputs": []
    },
    {
      "cell_type": "code",
      "source": [
        "model = GRU(input_dim=input_dim, hidden_dim=hidden_dim, output_dim=output_dim, num_layers=num_layers)\n",
        "criterion = torch.nn.MSELoss(reduction='mean')\n",
        "optimiser = torch.optim.Adam(model.parameters(), lr=0.01)"
      ],
      "metadata": {
        "id": "Cygoja4EKKoJ"
      },
      "execution_count": null,
      "outputs": []
    },
    {
      "cell_type": "code",
      "source": [
        "hist = np.zeros(num_epochs)\n",
        "start_time = time.time()\n",
        "gru = []\n",
        "\n",
        "for t in range(num_epochs):\n",
        "    y_train_pred = model(x_train)\n",
        "\n",
        "    loss = criterion(y_train_pred, y_train_gru)\n",
        "    print(\"Epoch \", t, \"MSE: \", loss.item())\n",
        "    hist[t] = loss.item()\n",
        "\n",
        "    optimiser.zero_grad()\n",
        "    loss.backward()\n",
        "    optimiser.step()\n",
        "\n",
        "training_time = time.time()-start_time    \n",
        "print(\"Training time: {}\".format(training_time))"
      ],
      "metadata": {
        "id": "zP7vtv9FKNTS"
      },
      "execution_count": null,
      "outputs": []
    },
    {
      "cell_type": "code",
      "source": [
        "predict = pd.DataFrame(scaler.inverse_transform(y_train_pred.detach().numpy()))\n",
        "original = pd.DataFrame(scaler.inverse_transform(y_train_gru.detach().numpy()))"
      ],
      "metadata": {
        "id": "Cffme10IKQT6"
      },
      "execution_count": null,
      "outputs": []
    },
    {
      "cell_type": "code",
      "source": [
        "import seaborn as sns\n",
        "sns.set_style(\"darkgrid\")    \n",
        "\n",
        "fig = plt.figure()\n",
        "fig.subplots_adjust(hspace=0.2, wspace=0.2)\n",
        "\n",
        "plt.subplot(1, 2, 1)\n",
        "ax = sns.lineplot(x = original.index, y = original[0], label=\"Data\", color='royalblue')\n",
        "ax = sns.lineplot(x = predict.index, y = predict[0], label=\"Training Prediction (GRU)\", color='tomato')\n",
        "ax.set_title('Stock price', size = 14, fontweight='bold')\n",
        "ax.set_xlabel(\"Days\", size = 14)\n",
        "ax.set_ylabel(\"Cost (USD)\", size = 14)\n",
        "ax.set_xticklabels('', size=10)\n",
        "\n",
        "\n",
        "plt.subplot(1, 2, 2)\n",
        "ax = sns.lineplot(data=hist, color='royalblue')\n",
        "ax.set_xlabel(\"Epoch\", size = 14)\n",
        "ax.set_ylabel(\"Loss\", size = 14)\n",
        "ax.set_title(\"Training Loss\", size = 14, fontweight='bold')\n",
        "fig.set_figheight(6)\n",
        "fig.set_figwidth(16)"
      ],
      "metadata": {
        "id": "hQ1nze4jKTN6"
      },
      "execution_count": null,
      "outputs": []
    },
    {
      "cell_type": "code",
      "source": [
        "import math, time\n",
        "from sklearn.metrics import mean_squared_error\n",
        "\n",
        "# make predictions\n",
        "y_test_pred = model(x_test)\n",
        "\n",
        "# invert predictions\n",
        "y_train_pred = scaler.inverse_transform(y_train_pred.detach().numpy())\n",
        "y_train = scaler.inverse_transform(y_train_gru.detach().numpy())\n",
        "y_test_pred = scaler.inverse_transform(y_test_pred.detach().numpy())\n",
        "y_test = scaler.inverse_transform(y_test_gru.detach().numpy())\n",
        "\n",
        "# calculate root mean squared error\n",
        "trainScore = math.sqrt(mean_squared_error(y_train[:,0], y_train_pred[:,0]))\n",
        "print('Train Score: %.2f RMSE' % (trainScore))\n",
        "testScore = math.sqrt(mean_squared_error(y_test[:,0], y_test_pred[:,0]))\n",
        "print('Test Score: %.2f RMSE' % (testScore))\n",
        "gru.append(trainScore)\n",
        "gru.append(testScore)\n",
        "gru.append(training_time)"
      ],
      "metadata": {
        "id": "tUXnHfNGKVnc"
      },
      "execution_count": null,
      "outputs": []
    },
    {
      "cell_type": "code",
      "source": [
        "# shift train predictions for plotting\n",
        "trainPredictPlot = np.empty_like(frame[['closing_price']])\n",
        "trainPredictPlot[:, :] = np.nan\n",
        "trainPredictPlot[lookback:len(y_train_pred)+lookback, :] = y_train_pred\n",
        "\n",
        "# shift test predictions for plotting\n",
        "testPredictPlot = np.empty_like(frame[['closing_price']])\n",
        "testPredictPlot[:, :] = np.nan\n",
        "testPredictPlot[len(y_train_pred)+lookback-1:len(frame[['closing_price']])-1, :] = y_test_pred\n",
        "\n",
        "original = scaler.inverse_transform(frame[['closing_price']].values.reshape(-1,1))\n",
        "\n",
        "predictions = np.append(trainPredictPlot, testPredictPlot, axis=1)\n",
        "predictions = np.append(predictions, original, axis=1)\n",
        "result = pd.DataFrame(predictions)"
      ],
      "metadata": {
        "id": "VpzKAsp5KYSM"
      },
      "execution_count": null,
      "outputs": []
    },
    {
      "cell_type": "code",
      "source": [
        "import plotly.express as px\n",
        "import plotly.graph_objects as go\n",
        "\n",
        "fig = go.Figure()\n",
        "fig.add_trace(go.Scatter(go.Scatter(x=result.index, y=result[0],\n",
        "                    mode='lines',\n",
        "                    name='Train prediction')))\n",
        "fig.add_trace(go.Scatter(x=result.index, y=result[1],\n",
        "                    mode='lines',\n",
        "                    name='Test prediction'))\n",
        "fig.add_trace(go.Scatter(go.Scatter(x=result.index, y=result[2],\n",
        "                    mode='lines',\n",
        "                    name='Actual Value')))\n",
        "fig.update_layout(\n",
        "    xaxis=dict(\n",
        "        showline=True,\n",
        "        showgrid=True,\n",
        "        showticklabels=False,\n",
        "        linecolor='white',\n",
        "        linewidth=2\n",
        "    ),\n",
        "    yaxis=dict(\n",
        "        title_text='Close (USD)',\n",
        "        titlefont=dict(\n",
        "            family='Rockwell',\n",
        "            size=12,\n",
        "            color='white',\n",
        "        ),\n",
        "        showline=True,\n",
        "        showgrid=True,\n",
        "        showticklabels=True,\n",
        "        linecolor='white',\n",
        "        linewidth=2,\n",
        "        ticks='outside',\n",
        "        tickfont=dict(\n",
        "            family='Rockwell',\n",
        "            size=12,\n",
        "            color='white',\n",
        "        ),\n",
        "    ),\n",
        "    showlegend=True,\n",
        "    template = 'plotly_dark'\n",
        "\n",
        ")\n",
        "\n",
        "\n",
        "\n",
        "annotations = []\n",
        "annotations.append(dict(xref='paper', yref='paper', x=0.0, y=1.05,\n",
        "                              xanchor='left', yanchor='bottom',\n",
        "                              text='Results (GRU)',\n",
        "                              font=dict(family='Rockwell',\n",
        "                                        size=26,\n",
        "                                        color='white'),\n",
        "                              showarrow=False))\n",
        "fig.update_layout(annotations=annotations)\n",
        "\n",
        "fig.show()"
      ],
      "metadata": {
        "id": "wy6qSnEGKcPr"
      },
      "execution_count": null,
      "outputs": []
    },
    {
      "cell_type": "code",
      "source": [
        "lstm = pd.DataFrame(lstm, columns=['LSTM'])\n",
        "gru = pd.DataFrame(gru, columns=['GRU'])\n",
        "result = pd.concat([lstm, gru], axis=1, join='inner')\n",
        "result.index = ['Train RMSE', 'Test RMSE', 'Train Time']\n",
        "result"
      ],
      "metadata": {
        "id": "C2jtYsCiKewK"
      },
      "execution_count": null,
      "outputs": []
    }
  ]
}